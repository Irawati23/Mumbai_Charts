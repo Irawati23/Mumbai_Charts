{
 "cells": [
  {
   "cell_type": "code",
   "execution_count": 3,
   "metadata": {},
   "outputs": [],
   "source": [
    "import pandas as pd\n",
    "import os\n",
    "import plotly.express as px \n",
    "import numpy as np \n",
    "import matplotlib as mlp\n",
    "import matplotlib.pyplot as plt\n",
    "import squarify\n",
    "import pygal \n",
    "import seaborn as sns \n",
    "import plotly.graph_objects as go\n",
    "from itertools import repeat"
   ]
  },
  {
   "cell_type": "code",
   "execution_count": 4,
   "metadata": {},
   "outputs": [
    {
     "data": {
      "text/plain": [
       "'/Users/irawati'"
      ]
     },
     "execution_count": 4,
     "metadata": {},
     "output_type": "execute_result"
    }
   ],
   "source": [
    "pwd"
   ]
  },
  {
   "cell_type": "code",
   "execution_count": 5,
   "metadata": {},
   "outputs": [
    {
     "data": {
      "text/html": [
       "<div>\n",
       "<style scoped>\n",
       "    .dataframe tbody tr th:only-of-type {\n",
       "        vertical-align: middle;\n",
       "    }\n",
       "\n",
       "    .dataframe tbody tr th {\n",
       "        vertical-align: top;\n",
       "    }\n",
       "\n",
       "    .dataframe thead th {\n",
       "        text-align: right;\n",
       "    }\n",
       "</style>\n",
       "<table border=\"1\" class=\"dataframe\">\n",
       "  <thead>\n",
       "    <tr style=\"text-align: right;\">\n",
       "      <th></th>\n",
       "      <th>doc_name_eng</th>\n",
       "      <th>district_eng</th>\n",
       "      <th>Count</th>\n",
       "    </tr>\n",
       "  </thead>\n",
       "  <tbody>\n",
       "    <tr>\n",
       "      <th>0</th>\n",
       "      <td>1-Acknowledgement/Possession Receipt</td>\n",
       "      <td>Mumbai Suburban</td>\n",
       "      <td>57</td>\n",
       "    </tr>\n",
       "    <tr>\n",
       "      <th>1</th>\n",
       "      <td>1-Acknowledgement/Possession Receipt</td>\n",
       "      <td>Raigad</td>\n",
       "      <td>1</td>\n",
       "    </tr>\n",
       "    <tr>\n",
       "      <th>2</th>\n",
       "      <td>35-Compensation Bond</td>\n",
       "      <td>Mumbai</td>\n",
       "      <td>1090</td>\n",
       "    </tr>\n",
       "    <tr>\n",
       "      <th>3</th>\n",
       "      <td>35-Compensation Bond</td>\n",
       "      <td>Mumbai Suburban</td>\n",
       "      <td>2043</td>\n",
       "    </tr>\n",
       "    <tr>\n",
       "      <th>4</th>\n",
       "      <td>35-Compensation Bond</td>\n",
       "      <td>Palghar</td>\n",
       "      <td>30</td>\n",
       "    </tr>\n",
       "    <tr>\n",
       "      <th>...</th>\n",
       "      <td>...</td>\n",
       "      <td>...</td>\n",
       "      <td>...</td>\n",
       "    </tr>\n",
       "    <tr>\n",
       "      <th>534</th>\n",
       "      <td>Deed type unclear</td>\n",
       "      <td>Mumbai</td>\n",
       "      <td>36742</td>\n",
       "    </tr>\n",
       "    <tr>\n",
       "      <th>535</th>\n",
       "      <td>Deed type unclear</td>\n",
       "      <td>Mumbai Suburban</td>\n",
       "      <td>159160</td>\n",
       "    </tr>\n",
       "    <tr>\n",
       "      <th>536</th>\n",
       "      <td>Deed type unclear</td>\n",
       "      <td>Palghar</td>\n",
       "      <td>85659</td>\n",
       "    </tr>\n",
       "    <tr>\n",
       "      <th>537</th>\n",
       "      <td>Deed type unclear</td>\n",
       "      <td>Raigad</td>\n",
       "      <td>55442</td>\n",
       "    </tr>\n",
       "    <tr>\n",
       "      <th>538</th>\n",
       "      <td>Deed type unclear</td>\n",
       "      <td>Thane</td>\n",
       "      <td>235770</td>\n",
       "    </tr>\n",
       "  </tbody>\n",
       "</table>\n",
       "<p>539 rows × 3 columns</p>\n",
       "</div>"
      ],
      "text/plain": [
       "                             doc_name_eng     district_eng   Count\n",
       "0    1-Acknowledgement/Possession Receipt  Mumbai Suburban      57\n",
       "1    1-Acknowledgement/Possession Receipt           Raigad       1\n",
       "2                    35-Compensation Bond           Mumbai    1090\n",
       "3                    35-Compensation Bond  Mumbai Suburban    2043\n",
       "4                    35-Compensation Bond          Palghar      30\n",
       "..                                    ...              ...     ...\n",
       "534                     Deed type unclear           Mumbai   36742\n",
       "535                     Deed type unclear  Mumbai Suburban  159160\n",
       "536                     Deed type unclear          Palghar   85659\n",
       "537                     Deed type unclear           Raigad   55442\n",
       "538                     Deed type unclear            Thane  235770\n",
       "\n",
       "[539 rows x 3 columns]"
      ]
     },
     "execution_count": 5,
     "metadata": {},
     "output_type": "execute_result"
    }
   ],
   "source": [
    "mumdeeds= pd.read_csv('/Users/Irawati/Desktop/mum_deeds.csv')\n",
    "mumdeeds['doc_name_eng'].fillna(\"Deed type unclear\", inplace = True) #replaces na values with text\n",
    "mumdeeds"
   ]
  },
  {
   "cell_type": "code",
   "execution_count": 6,
   "metadata": {},
   "outputs": [
    {
     "name": "stderr",
     "output_type": "stream",
     "text": [
      "<ipython-input-6-58d53ff0a06b>:2: SettingWithCopyWarning: \n",
      "A value is trying to be set on a copy of a slice from a DataFrame\n",
      "\n",
      "See the caveats in the documentation: https://pandas.pydata.org/pandas-docs/stable/user_guide/indexing.html#returning-a-view-versus-a-copy\n",
      "  mumbai.sort_values(by=['Count'], inplace=True, ascending=False)\n",
      "/opt/anaconda3/lib/python3.8/site-packages/pandas/core/frame.py:3990: SettingWithCopyWarning: \n",
      "A value is trying to be set on a copy of a slice from a DataFrame\n",
      "\n",
      "See the caveats in the documentation: https://pandas.pydata.org/pandas-docs/stable/user_guide/indexing.html#returning-a-view-versus-a-copy\n",
      "  return super().drop(\n"
     ]
    }
   ],
   "source": [
    "mumbai = mumdeeds[mumdeeds.district_eng == 'Mumbai']\n",
    "mumbai.sort_values(by=['Count'], inplace=True, ascending=False)\n",
    "mumbai.drop(mumbai.tail(99).index,inplace=True)\n",
    "mumbai= mumbai.set_index('doc_name_eng')"
   ]
  },
  {
   "cell_type": "code",
   "execution_count": 15,
   "metadata": {},
   "outputs": [
    {
     "data": {
      "image/png": "[encoded data removed]",
      "text/plain": [
       "<Figure size 432x288 with 1 Axes>"
      ]
     },
     "metadata": {},
     "output_type": "display_data"
    }
   ],
   "source": [
    "sns.set_style(\"whitegrid\", {'axes.grid' : False})\n",
    "def colors_from_values(values, Purples):\n",
    "    # normalize the values to range [0, 1]\n",
    "    normalized = (values - min(values)) / (max(values) - min(values))\n",
    "    # convert to indices\n",
    "    indices = np.round(normalized * (len(mumbai.Count) - 1)).astype(np.int32)\n",
    "    # use the indices to get the colors\n",
    "    palette = sns.color_palette(Purples, len(mumbai.Count))\n",
    "    return np.array(palette).take(indices, axis=0)\n",
    "\n",
    "x = np.arange(10)\n",
    "y = np.random.random(10)\n",
    "\n",
    "Mumbai=sns.barplot(mumbai.index, mumbai.Count, palette=colors_from_values(mumbai.Count, \"Purples\")).set_title('Share of top 10 deeds in total registrations in Mumbai (1984 to 2020)')\n",
    "plt.xticks(rotation=90)\n",
    "plt.xlabel(\"Deed type\")\n",
    "plt.savefig ('Share of Top Ten Mumbai Deeds_Seaborn.png', bbox_inches='tight')"
   ]
  },
  {
   "cell_type": "code",
   "execution_count": null,
   "metadata": {},
   "outputs": [],
   "source": []
  }
 ],
 "metadata": {
  "kernelspec": {
   "display_name": "Python 3",
   "language": "python",
   "name": "python3"
  },
  "language_info": {
   "codemirror_mode": {
    "name": "ipython",
    "version": 3
   },
   "file_extension": ".py",
   "mimetype": "text/x-python",
   "name": "python",
   "nbconvert_exporter": "python",
   "pygments_lexer": "ipython3",
   "version": "3.8.3"
  }
 },
 "nbformat": 4,
 "nbformat_minor": 4
}
